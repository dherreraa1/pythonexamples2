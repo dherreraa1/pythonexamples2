{
 "cells": [
  {
   "cell_type": "markdown",
   "id": "75c8666f",
   "metadata": {
    "vscode": {
     "languageId": "plaintext"
    }
   },
   "source": [
    "Utilizando la librería Pandas desarrollar:"
   ]
  },
  {
   "cell_type": "markdown",
   "id": "38504983",
   "metadata": {},
   "source": [
    "# Parte 1 \n",
    "- Leer el archivo clientes.csv y mostrar las primeras 3 filas.\n",
    "- Mostrar estadísticas descriptivas para columnas numéricas.\n",
    "- Filtrar todos los registros donde el país sea \"México\".\n",
    "- Mostrar solo las columnas \"Nombre\" y \"Compras\".\n",
    "- Contar cuántos clientes hay por país."
   ]
  },
  {
   "cell_type": "markdown",
   "id": "55aea335",
   "metadata": {},
   "source": [
    "# Parte 2\n",
    "- Convertir la columna Fecha_Registro a tipo datetime.\n",
    "- Filtrar clientes mayores de 30 años que hayan hecho más de 2 compras.\n",
    "- Crear una columna Promedio_Compra que divida Ingresos entre Compras (y manejar casos con compras = 0).\n",
    "- Ordenar los datos por Ingresos de forma descendente.\n",
    "- Calcular el ingreso promedio por país."
   ]
  },
  {
   "cell_type": "markdown",
   "id": "05ec136d",
   "metadata": {},
   "source": [
    "# Parte 3\n",
    "- Agrupar por país y mostrar:\n",
    "    - Número de clientes\n",
    "    - Total de ingresos\n",
    "    - Promedio de edad\n",
    "\n",
    "- Calcular cuántos días han pasado desde la fecha de registro hasta hoy.\n",
    "- Crear una tabla pivote donde las filas sean países y las columnas el género, mostrando el ingreso total.\n",
    "- Simular valores nulos en Ingresos y contar cuántos hay.\n",
    "- Guardar un subconjunto filtrado como nuevo archivo CSV."
   ]
  },
  {
   "cell_type": "markdown",
   "id": "b020d54e",
   "metadata": {},
   "source": [
    "# Parte 4\n",
    "\n",
    "Utilizando las librerías \n",
    "```python\n",
    "pandas , yfinance , date time  \n",
    "```\n",
    "\n",
    "Descargue la información de de los ticker:\n",
    " - 0P0000TKZK.L\n",
    " - shel.l\n",
    " - bp.l\n",
    "\n",
    "Cargue la informción en un Dataframe, agregue por fecha los precios de cierre y guarde la información en un excel.\n"
   ]
  },
  {
   "cell_type": "markdown",
   "id": "5f1803f6",
   "metadata": {},
   "source": [
    "# Parte 5 \n",
    "\n",
    "Cargue la información del archivo \"datos_punto_5.pkl\"\n",
    "\n",
    "1. Realice un análisis exploratorio completo usando funciones lambda para:\n",
    "- Identificar columnas con alta cardinalidad (>100 valores únicos)\n",
    "- Crear un resumen personalizado que muestre: nombre_columna, tipo_dato, valores_únicos,porcentaje_faltantes\n",
    "- Use df.apply() con lambda para calcular estadísticas customizadas\n",
    "\n",
    "2. Extraiga las categorías jerárquicas usando list comprehension y lambda:\n",
    "- Separe la columna product_hierarchy en: main_category , sub_category , product_detail\n",
    "- Cree estas nuevas columnas usando operaciones vectorizadas con lambda\n",
    "\n",
    "3. Implemente una función de limpieza usando métodos encadenados y lambda:\n",
    "- Estandarice formatos de texto (currency, region, user_type) \n",
    "- Maneje valores faltantes usando \n",
    "- imputación condicional con lambda\n",
    "- Elimine duplicados considerando lógica de negocio compleja\n",
    "\n",
    "4. Cree nuevas columnas usando funciones lambda:\n",
    "- revenue_usd: Convierta todas las ventas a USD usando tasas de cambio simuladas\n",
    "- customer_value_score: Score basado en múltiples factores (usar lambda con múltiples condiciones)\n",
    "- session_quality_index: Índice compuesto usando page_views, time_on_site y cart_abandonment\n",
    "\n",
    "## Tasas de cambio a USD: ## \n",
    "\n",
    "```python\n",
    "exchange_rates = { 'USD' : 1.0 , 'EUR' : 1.08 , 'GBP' : 1.25 , 'CAD' : 0.74 , 'AUD' : 0.67 } \n",
    "```"
   ]
  },
  {
   "cell_type": "markdown",
   "id": "b32a2baa",
   "metadata": {},
   "source": []
  }
 ],
 "metadata": {
  "kernelspec": {
   "display_name": "key_plan_env",
   "language": "python",
   "name": "python3"
  },
  "language_info": {
   "codemirror_mode": {
    "name": "ipython",
    "version": 3
   },
   "file_extension": ".py",
   "mimetype": "text/x-python",
   "name": "python",
   "nbconvert_exporter": "python",
   "pygments_lexer": "ipython3",
   "version": "3.11.9"
  }
 },
 "nbformat": 4,
 "nbformat_minor": 5
}
